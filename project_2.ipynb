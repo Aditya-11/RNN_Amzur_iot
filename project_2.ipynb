{
 "cells": [
  {
   "cell_type": "code",
   "execution_count": 1,
   "metadata": {
    "collapsed": true
   },
   "outputs": [],
   "source": [
    "import numpy as np\n",
    "import matplotlib.pyplot as plt\n",
    "import pandas as pd\n",
    "from sklearn.preprocessing import Imputer\n",
    "\n",
    "#made Aditya Dubey\n",
    "#ad440@snu.edu.in\n",
    "# Importing the training set\n",
    "set = pd.read_csv('data_1.csv')\n",
    "training_set =  set.iloc[2:21602,1:2].values\n",
    "\n",
    "# Feature Scaling\n",
    "#from sklearn.preprocessing import MinMaxScaler\n",
    "#sc = MinMaxScaler()\n",
    "#training_set = sc.fit_transform(training_set)\n",
    "\n",
    "training_set = np.array(training_set)\n",
    "\n",
    "imp = Imputer(missing_values='NaN', strategy='median', axis=0)\n",
    "imp = imp.fit(training_set)\n",
    "X_train_imp = imp.transform(training_set)\n",
    "\n",
    "\n",
    "from sklearn.preprocessing import MinMaxScaler\n",
    "sc = MinMaxScaler()\n",
    "training_set = sc.fit_transform(X_train_imp)\n",
    "\n",
    "# Getting the inputs and the ouputs\n",
    "X_train = training_set[0:21599]\n",
    "y_train = training_set[1:21600]\n",
    "\n",
    "# Reshaping\n",
    "X_train = np.reshape(X_train, (21599, 1, 1))"
   ]
  },
  {
   "cell_type": "code",
   "execution_count": 2,
   "metadata": {},
   "outputs": [
    {
     "name": "stderr",
     "output_type": "stream",
     "text": [
      "Using TensorFlow backend.\n"
     ]
    },
    {
     "name": "stdout",
     "output_type": "stream",
     "text": [
      "Epoch 1/50\n",
      "21599/21599 [==============================] - 4s - loss: 0.0214     \n",
      "Epoch 2/50\n",
      "21599/21599 [==============================] - 2s - loss: 0.0114     \n",
      "Epoch 3/50\n",
      "21599/21599 [==============================] - 2s - loss: 0.0069     \n",
      "Epoch 4/50\n",
      "21599/21599 [==============================] - 2s - loss: 0.0049     \n",
      "Epoch 5/50\n",
      "21599/21599 [==============================] - 2s - loss: 0.0045     \n",
      "Epoch 6/50\n",
      "21599/21599 [==============================] - 2s - loss: 0.0045     \n",
      "Epoch 7/50\n",
      "21599/21599 [==============================] - 2s - loss: 0.0045     \n",
      "Epoch 8/50\n",
      "21599/21599 [==============================] - 2s - loss: 0.0045     \n",
      "Epoch 9/50\n",
      "21599/21599 [==============================] - 2s - loss: 0.0045     \n",
      "Epoch 10/50\n",
      "21599/21599 [==============================] - 2s - loss: 0.0045     \n",
      "Epoch 11/50\n",
      "21599/21599 [==============================] - 2s - loss: 0.0045     \n",
      "Epoch 12/50\n",
      "21599/21599 [==============================] - 2s - loss: 0.0045     \n",
      "Epoch 13/50\n",
      "21599/21599 [==============================] - 2s - loss: 0.0045     - \n",
      "Epoch 14/50\n",
      "21599/21599 [==============================] - 2s - loss: 0.0045     \n",
      "Epoch 15/50\n",
      "21599/21599 [==============================] - 2s - loss: 0.0045     \n",
      "Epoch 16/50\n",
      "21599/21599 [==============================] - 2s - loss: 0.0045     \n",
      "Epoch 17/50\n",
      "21599/21599 [==============================] - 2s - loss: 0.0045     \n",
      "Epoch 18/50\n",
      "21599/21599 [==============================] - 2s - loss: 0.0045     \n",
      "Epoch 19/50\n",
      "21599/21599 [==============================] - 2s - loss: 0.0045     \n",
      "Epoch 20/50\n",
      "21599/21599 [==============================] - 2s - loss: 0.0045     \n",
      "Epoch 21/50\n",
      "21599/21599 [==============================] - 2s - loss: 0.0045     \n",
      "Epoch 22/50\n",
      "21599/21599 [==============================] - 2s - loss: 0.0045     \n",
      "Epoch 23/50\n",
      "21599/21599 [==============================] - 2s - loss: 0.0045     \n",
      "Epoch 24/50\n",
      "21599/21599 [==============================] - 2s - loss: 0.0045     \n",
      "Epoch 25/50\n",
      "21599/21599 [==============================] - 2s - loss: 0.0045     \n",
      "Epoch 26/50\n",
      "21599/21599 [==============================] - 2s - loss: 0.0045     \n",
      "Epoch 27/50\n",
      "21599/21599 [==============================] - 2s - loss: 0.0045     \n",
      "Epoch 28/50\n",
      "21599/21599 [==============================] - 2s - loss: 0.0045     - E - ETA: 0s - loss: 0\n",
      "Epoch 29/50\n",
      "21599/21599 [==============================] - 2s - loss: 0.0045     \n",
      "Epoch 30/50\n",
      "21599/21599 [==============================] - 2s - loss: 0.0045     \n",
      "Epoch 31/50\n",
      "21599/21599 [==============================] - 2s - loss: 0.0045     \n",
      "Epoch 32/50\n",
      "21599/21599 [==============================] - 2s - loss: 0.0045     \n",
      "Epoch 33/50\n",
      "21599/21599 [==============================] - 2s - loss: 0.0045     \n",
      "Epoch 34/50\n",
      "21599/21599 [==============================] - 2s - loss: 0.0045     \n",
      "Epoch 35/50\n",
      "21599/21599 [==============================] - 2s - loss: 0.0045     \n",
      "Epoch 36/50\n",
      "21599/21599 [==============================] - 2s - loss: 0.0045     \n",
      "Epoch 37/50\n",
      "21599/21599 [==============================] - 2s - loss: 0.0045     \n",
      "Epoch 38/50\n",
      "21599/21599 [==============================] - 2s - loss: 0.0045     \n",
      "Epoch 39/50\n",
      "21599/21599 [==============================] - 2s - loss: 0.0045     \n",
      "Epoch 40/50\n",
      "21599/21599 [==============================] - 2s - loss: 0.0045     \n",
      "Epoch 41/50\n",
      "21599/21599 [==============================] - 2s - loss: 0.0045     - ETA: 0s -\n",
      "Epoch 42/50\n",
      "21599/21599 [==============================] - 2s - loss: 0.0045     \n",
      "Epoch 43/50\n",
      "21599/21599 [==============================] - 2s - loss: 0.0045     \n",
      "Epoch 44/50\n",
      "21599/21599 [==============================] - 2s - loss: 0.0045     \n",
      "Epoch 45/50\n",
      "21599/21599 [==============================] - 2s - loss: 0.0045     \n",
      "Epoch 46/50\n",
      "21599/21599 [==============================] - 2s - loss: 0.0045     \n",
      "Epoch 47/50\n",
      "21599/21599 [==============================] - 2s - loss: 0.0045     \n",
      "Epoch 48/50\n",
      "21599/21599 [==============================] - 2s - loss: 0.0045     \n",
      "Epoch 49/50\n",
      "21599/21599 [==============================] - 3s - loss: 0.0045     \n",
      "Epoch 50/50\n",
      "21599/21599 [==============================] - 3s - loss: 0.0045     \n"
     ]
    },
    {
     "data": {
      "text/plain": [
       "<keras.callbacks.History at 0x23e07afee80>"
      ]
     },
     "execution_count": 2,
     "metadata": {},
     "output_type": "execute_result"
    }
   ],
   "source": [
    "# Part 2 - Building the RNN\n",
    "\n",
    "# Importing the Keras libraries and packages\n",
    "from keras.models import Sequential\n",
    "from keras.layers import Dense\n",
    "from keras.layers import LSTM\n",
    "\n",
    "# Initialising the RNN\n",
    "regressor = Sequential()\n",
    "\n",
    "# Adding the input layer and the LSTM layer\n",
    "regressor.add(LSTM(units = 5, activation = 'sigmoid', input_shape = (None, 1)))\n",
    "\n",
    "# Adding the output layer\n",
    "regressor.add(Dense(units = 1))\n",
    "\n",
    "# Compiling the RNN\n",
    "regressor.compile(optimizer = 'adam', loss = 'mean_squared_error')\n",
    "\n",
    "# Fitting the RNN to the Training set\n",
    "regressor.fit(X_train, y_train, batch_size = 32, epochs = 50)\n"
   ]
  },
  {
   "cell_type": "code",
   "execution_count": 3,
   "metadata": {},
   "outputs": [
    {
     "data": {
      "image/png": "[encoded data removed]",
      "text/plain": [
       "<matplotlib.figure.Figure at 0x23e028482e8>"
      ]
     },
     "metadata": {},
     "output_type": "display_data"
    }
   ],
   "source": [
    "# Part 3 - Making the predictions and visualising the results\n",
    "\n",
    "# Getting the real stock price of 2017\n",
    "#test_set =  set.iloc[15003:21600,1:2].values\n",
    "test_set = pd.read_csv('data_2.csv')\n",
    "test_set =  set.iloc[2:10002,1:2].values\n",
    "real_price = np.array(test_set)\n",
    "# Getting the predicted stock price of 2017\n",
    "inputs = real_price\n",
    "imp = Imputer(missing_values='NaN', strategy='mean', axis=0)\n",
    "imp = imp.fit(inputs)\n",
    "inputs_imp = imp.transform(inputs)\n",
    "inputs_imp = sc.transform(inputs_imp)\n",
    "inputs_imp = np.reshape(inputs_imp, (10000, 1, 1))\n",
    "predicted_price = regressor.predict(inputs_imp)\n",
    "predicted_price = sc.inverse_transform(predicted_price)\n",
    "\n",
    "# error for 1st 100 observation , mean error is -165.614\n",
    "m = list(range(0,100))\n",
    "i = 0\n",
    "while i < 100:\n",
    "    m[i] =  real_price[i+1] - predicted_price[i]\n",
    "    i = i+1\n",
    "\n",
    "\n",
    "# Visualising the results of first hundread 100 test observation\n",
    "plt.plot(real_price[0:100] , color = 'red', label = 'Real amzur watts')\n",
    "plt.plot(predicted_price[0:100] , color = 'blue', label = 'Predicted amzur watts')\n",
    "plt.plot(m[0:100] , color = 'green', label = 'error')\n",
    "plt.title('amzur')\n",
    "plt.xlabel('Time')\n",
    "plt.ylabel('wattage')\n",
    "plt.legend()\n",
    "plt.show()"
   ]
  },
  {
   "cell_type": "code",
   "execution_count": 6,
   "metadata": {},
   "outputs": [
    {
     "name": "stdout",
     "output_type": "stream",
     "text": [
      "average error : [-19.03863737]\n"
     ]
    }
   ],
   "source": [
    "# finding mean error (total testing data)\n",
    "i = 0\n",
    "z = 0 \n",
    "n = 0\n",
    "while i < len(real_price)-1:\n",
    "    if real_price[i+1] - predicted_price[i] != np.nan:\n",
    "        z = m + real_price[i+1] - predicted_price[i]\n",
    "        n = n+1\n",
    "    else:\n",
    "        n = n+0         \n",
    "    i = i+1\n",
    "print('average error :', z/n)"
   ]
  },
  {
   "cell_type": "code",
   "execution_count": null,
   "metadata": {},
   "outputs": [],
   "source": []
  }
 ],
 "metadata": {
  "kernelspec": {
   "display_name": "Python 3",
   "language": "python",
   "name": "python3"
  },
  "language_info": {
   "codemirror_mode": {
    "name": "ipython",
    "version": 3
   },
   "file_extension": ".py",
   "mimetype": "text/x-python",
   "name": "python",
   "nbconvert_exporter": "python",
   "pygments_lexer": "ipython3",
   "version": "3.6.1"
  }
 },
 "nbformat": 4,
 "nbformat_minor": 2
}
